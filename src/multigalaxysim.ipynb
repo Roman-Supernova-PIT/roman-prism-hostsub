{
 "cells": [
  {
   "cell_type": "code",
   "execution_count": null,
   "id": "bf721525-50bf-402e-b1c6-aeacab7b01cb",
   "metadata": {},
   "outputs": [],
   "source": [
    "## pip install \"/Users/tastraatmadja/PycharmProjects/Ilia\""
   ]
  },
  {
   "cell_type": "code",
   "execution_count": 1,
   "id": "2e633015-ebb8-4f70-8eea-4b81535a9cf2",
   "metadata": {},
   "outputs": [
    {
     "name": "stderr",
     "output_type": "stream",
     "text": [
      "**WARNING**: LOCAL JWST PRD VERSION PRDOPSSOC-068 DOESN'T MATCH THE CURRENT ONLINE VERSION PRDOPSSOC-071\n",
      "Please consider updating pysiaf, e.g. pip install --upgrade pysiaf or conda update pysiaf\n"
     ]
    }
   ],
   "source": [
    "from astropy import units as u\n",
    "from astropy import coordinates\n",
    "from astropy.io import fits\n",
    "import concurrent.futures\n",
    "from matplotlib import pyplot as plt\n",
    "import numpy as np\n",
    "from pysiaf.utils import rotations\n",
    "from scipy import signal\n",
    "import synphot as syn\n",
    "\n",
    "from ilia import constants\n",
    "from ilia.environment.scene import Scene\n",
    "from ilia.environment.background import Background\n",
    "from ilia.instrument.disperser import RomanGrism, RomanPrism, RomanFilter\n",
    "from ilia.instrument.throughput import RomanEffectiveArea\n",
    "from ilia.instrument.psf import getPSFFoV, StandardRomanPSF\n",
    "from ilia.tools import astro, plotting\n",
    "from ilia.tools import drizzle as drz\n",
    "from ilia.tools.time import convertTime\n",
    "\n",
    "import time\n",
    "import sys\n",
    "import glob\n",
    "import os\n",
    "import re\n",
    "\n",
    "from scipy.interpolate import interp1d\n",
    "from scipy.interpolate import griddata\n",
    "\n",
    "## DEF_COORDS = coordinates.SkyCoord(7.602442990588687, -44.79116827483218, frame='icrs', unit='deg')\n",
    "\n",
    "DEF_COORDS = coordinates.SkyCoord(\"04:04:57.84\", \"-48:25:22.8\", frame='icrs', unit='deg')\n",
    "\n",
    "ROMAN_PIXSCALE = constants.ROMAN_PIXSCALE\n",
    "\n",
    "plotting.def_plot_values_extra_large()"
   ]
  },
  {
   "cell_type": "code",
   "execution_count": 2,
   "id": "a0fcb2cb",
   "metadata": {},
   "outputs": [],
   "source": [
    "home = os.getenv('HOME')\n",
    "prismdir = home + '/Documents/Roman/PIT/prism/'\n",
    "hostsubdir = prismdir + 'hostlight_subtraction/'\n",
    "utils_dir = hostsubdir + 'roman-prism-hostsub/utils/'\n",
    "sys.path.append(utils_dir)\n",
    "import get_app_mag as gm  # noqa\n",
    "import romanprismdefs as rdef  # noqa\n",
    "\n",
    "speed_of_light_ang = 3e18  # angstroms per second"
   ]
  },
  {
   "cell_type": "code",
   "execution_count": 3,
   "id": "fd7198fd-92f9-4fa2-ae9d-7ba1e0e174b5",
   "metadata": {},
   "outputs": [
    {
     "data": {
      "text/plain": [
       "(<Longitude 4.08273333 deg>, <Latitude -48.423 deg>)"
      ]
     },
     "execution_count": 3,
     "metadata": {},
     "output_type": "execute_result"
    }
   ],
   "source": [
    "DEF_COORDS.ra, DEF_COORDS.dec"
   ]
  },
  {
   "cell_type": "code",
   "execution_count": 4,
   "id": "56b63486-1e04-4d1d-89c6-b0ccb948465f",
   "metadata": {},
   "outputs": [],
   "source": [
    "OUTDIR = \"/Users/baj/Documents/Roman/PIT/prism/hostlight_subtraction/simdata_prism_galsn\""
   ]
  },
  {
   "cell_type": "code",
   "execution_count": 26,
   "id": "be6beb44-10a5-4f3b-89ec-1e75ebbc8c2c",
   "metadata": {},
   "outputs": [],
   "source": [
    "delAngle   = 20.0\n",
    "rollAngles = coordinates.Angle(np.arange(45.0, 110.0, delAngle), unit='deg').wrap_at(360.0 * u.deg)"
   ]
  },
  {
   "cell_type": "code",
   "execution_count": 27,
   "id": "0eafd052-008e-43fe-82a0-9434a1c4e0e1",
   "metadata": {},
   "outputs": [
    {
     "name": "stderr",
     "output_type": "stream",
     "text": [
      "/Users/baj/miniconda3/envs/ilia/lib/python3.10/site-packages/numpy/lib/_function_base_impl.py:2605: RuntimeWarning: invalid value encountered in do_format (vectorized)\n",
      "  outputs = ufunc(*inputs)\n"
     ]
    },
    {
     "data": {
      "text/latex": [
       "[$45^\\circ00{}^\\prime00{}^{\\prime\\prime}$\n",
       " $65^\\circ00{}^\\prime00{}^{\\prime\\prime}$\n",
       " $85^\\circ00{}^\\prime00{}^{\\prime\\prime}$\n",
       " $105^\\circ00{}^\\prime00{}^{\\prime\\prime}$]"
      ],
      "text/plain": [
       "<Angle [ 45.,  65.,  85., 105.] deg>"
      ]
     },
     "execution_count": 27,
     "metadata": {},
     "output_type": "execute_result"
    }
   ],
   "source": [
    "rollAngles"
   ]
  },
  {
   "cell_type": "code",
   "execution_count": 28,
   "id": "378f62e5-2bb2-446e-bf02-d86e44cac507",
   "metadata": {},
   "outputs": [],
   "source": [
    "# Set up aperture list and reference coordinates\n",
    "rsiaf, roman_apertures, V2Ref_roman, V3Ref_roman, pa_y_v3 = astro.getRomanApertures()"
   ]
  },
  {
   "cell_type": "code",
   "execution_count": 29,
   "id": "709773b0",
   "metadata": {},
   "outputs": [],
   "source": [
    "def get_scalefac_for_mag(abmag, sed_wav, sed_flux, filtwav, filtthru,\n",
    "                         lam_pivot, fluxinfnu=True):\n",
    "    scalefac = None\n",
    "\n",
    "    # get flux for user given SED through filter\n",
    "    # first convert to flam if flux in fnu\n",
    "    if fluxinfnu:\n",
    "        sed_flam = (speed_of_light_ang * sed_flux) / lam_pivot**2\n",
    "    else:\n",
    "        sed_flam = sed_flux\n",
    "\n",
    "    input_sed_filt_flam = gm.filter_conv(filtwav, filtthru, sed_wav, sed_flam)\n",
    "    # also get mag for input SED\n",
    "    input_sed_abmag = gm.get_apparent_mag_noredshift(sed_wav, sed_flam,\n",
    "                                                     filtwav, filtthru, lam_pivot)\n",
    "\n",
    "    print('Input SED flam in given filter:', input_sed_filt_flam)\n",
    "    print('Input SED AB mag in given filter:', input_sed_abmag)\n",
    "\n",
    "    # Now scale\n",
    "    reqfnu = np.power(10, -0.4 * (abmag + 48.6))\n",
    "    reqflam = (speed_of_light_ang * reqfnu) / lam_pivot**2\n",
    "    print('Required fnu:', reqfnu)\n",
    "    print('Required flam:', reqflam)\n",
    "\n",
    "    scalefac = reqflam / input_sed_filt_flam\n",
    "\n",
    "    print(\"\\n*** NOTE: Do we need a k-correction in this function? ***\\n\")\n",
    "\n",
    "    return scalefac"
   ]
  },
  {
   "cell_type": "code",
   "execution_count": 30,
   "id": "0dad001b",
   "metadata": {},
   "outputs": [],
   "source": [
    "# Open the datacube where you want to insert the SN and save that\n",
    "# We will use this SN added datacube instead\n",
    "SN_x = 117\n",
    "SN_y = 73\n",
    "\n",
    "datacubedir = \"/Users/baj/Documents/Roman/PIT/prism/vela-prism-sims\"\n",
    "\n",
    "# Open datacube to edit\n",
    "dh = fits.open(datacubedir + '/vela06_cam02_fnu.fits')\n",
    "datacube = dh[1].data\n",
    "wavelength = dh[2].data"
   ]
  },
  {
   "cell_type": "code",
   "execution_count": 31,
   "id": "eb182536",
   "metadata": {},
   "outputs": [
    {
     "name": "stdout",
     "output_type": "stream",
     "text": [
      "Required mag: 23.5 in Roman/WFI F129\n",
      "Input SED flam in given filter: 2.7343323925252946e-20\n",
      "Input SED AB mag in given filter: 25.942682243890594\n",
      "Required fnu: 1.445439770745928e-29\n",
      "Required flam: 2.5937266536857e-19\n",
      "\n",
      "*** NOTE: Do we need a k-correction in this function? ***\n",
      "\n",
      "SN SED scaling factor for required mag: 9.485776713818842\n"
     ]
    }
   ],
   "source": [
    "# load SN SED\n",
    "SN = np.loadtxt(OUTDIR + '/lfnana_fnu.txt')\n",
    "SN_SED = interp1d(SN[:, 0], SN[:, 1], kind='linear',\n",
    "                  fill_value=0.0, bounds_error=False)  # this is an interp1D obj. works like a func.\n",
    "\n",
    "snsed_wav = SN[:, 0]\n",
    "snsed_flux = SN[:, 1]\n",
    "\n",
    "reqmag = 23.5\n",
    "filtname = 'F129'\n",
    "print('Required mag:', reqmag, 'in Roman/WFI', filtname)\n",
    "\n",
    "# from Roman/WFI GSFC page\n",
    "# these are the central wavelengths[AA] which are probably close enough\n",
    "lam_pivot_dict = {'F062': 6200,\n",
    "                  'F087': 8690,\n",
    "                  'F106': 10600,\n",
    "                  'F129': 12930,\n",
    "                  'F158': 15770,\n",
    "                  'F184': 18420,\n",
    "                  'F213': 21250}\n",
    "lam_pivot = lam_pivot_dict[filtname]\n",
    "\n",
    "# need the Roman effective area curves for the filter throughputs\n",
    "roman_effarea = np.genfromtxt(prismdir + 'Roman_effarea_20201130.csv',\n",
    "                              dtype=None, names=True, delimiter=',')\n",
    "\n",
    "# get filter wavelengths and throughput\n",
    "# first get scaling to go from effective area to throughput\n",
    "scaling = rdef.get_effarea_throughput_scaling()\n",
    "f129_wav = roman_effarea['Wave'] * 1e4\n",
    "f129_thru = roman_effarea['F129'] * scaling\n",
    "\n",
    "scale_factor = get_scalefac_for_mag(reqmag, snsed_wav, snsed_flux,\n",
    "                                    f129_wav, f129_thru, lam_pivot)\n",
    "\n",
    "print('SN SED scaling factor for required mag:', scale_factor)\n",
    "\n",
    "SNSEDFLUX = SN_SED(wavelength)  # SN SED flux array over datacube wavelengths"
   ]
  },
  {
   "cell_type": "code",
   "execution_count": 32,
   "id": "6334668d",
   "metadata": {},
   "outputs": [
    {
     "name": "stdout",
     "output_type": "stream",
     "text": [
      "Inserted SN SED at datacube coords (DS9 x, y): 117 73\n",
      "Inserted SN SED at datacube coords (row, col): 72 116\n"
     ]
    }
   ],
   "source": [
    "# Now put in the SN SED in the datacube\n",
    "datacube[:, SN_y - 1, SN_x - 1] += (scale_factor * SNSEDFLUX)\n",
    "print('Inserted SN SED at datacube coords (DS9 x, y):', SN_x, SN_y)\n",
    "print('Inserted SN SED at datacube coords (row, col):', SN_y - 1, SN_x - 1)\n",
    "\n",
    "# Save the cube with the SN\n",
    "new_dh = dh\n",
    "new_dh[1].data = datacube\n",
    "new_dh.writeto(datacubedir + '/vela06_cam02_fnu_SN.fits', overwrite=True)\n",
    "\n",
    "dh.close()"
   ]
  },
  {
   "cell_type": "code",
   "execution_count": 33,
   "id": "823e0359-f8e0-444f-895f-cc05fbb151f7",
   "metadata": {},
   "outputs": [
    {
     "name": "stdout",
     "output_type": "stream",
     "text": [
      "['/Users/baj/Documents/Roman/PIT/prism/vela-prism-sims/vela01_cam08_fnu.fits', '/Users/baj/Documents/Roman/PIT/prism/vela-prism-sims/vela04_cam00_fnu.fits', '/Users/baj/Documents/Roman/PIT/prism/vela-prism-sims/vela05_cam02_fnu.fits', '/Users/baj/Documents/Roman/PIT/prism/vela-prism-sims/vela06_cam02_fnu_SN.fits', '/Users/baj/Documents/Roman/PIT/prism/vela-prism-sims/vela11_cam01_fnu.fits']\n",
      "Found 5 datacubes!\n",
      "Scene oversample: 3\n"
     ]
    },
    {
     "data": {
      "text/plain": [
       "\"\\nif (nDatacubeFilenames > 0):\\n    hduList_init = fits.open(datacubeFilenames[0])\\n\\n    scenes_oversample = int(hduList_init[0].header['OVERSAMP']) \\n\""
      ]
     },
     "execution_count": 33,
     "metadata": {},
     "output_type": "execute_result"
    }
   ],
   "source": [
    "scenes_oversample = 3 ## TYPE-IN THE OVERSAMPLING RATE OF THE SCENES HERE\n",
    "\n",
    "datacubeFilenames = sorted(glob.glob(\"{0:s}/*_fnu.fits\".format(datacubedir)))\n",
    "\n",
    "# Change the element in this list to the datacube which has the SN\n",
    "for fc, fname in enumerate(datacubeFilenames):\n",
    "    if 'vela06_cam02_' in fname:\n",
    "        datacubeFilenames[fc] = fname.replace('fnu.fits', 'fnu_SN.fits')\n",
    "\n",
    "print(repr(datacubeFilenames))\n",
    "nDatacubeFilenames = len(datacubeFilenames)\n",
    "\n",
    "print(\"Found {0:d} datacubes!\".format(nDatacubeFilenames))\n",
    "print(\"Scene oversample:\", scenes_oversample)\n",
    "\n",
    "'''\n",
    "if (nDatacubeFilenames > 0):\n",
    "    hduList_init = fits.open(datacubeFilenames[0])\n",
    "\n",
    "    scenes_oversample = int(hduList_init[0].header['OVERSAMP']) \n",
    "'''"
   ]
  },
  {
   "cell_type": "code",
   "execution_count": 34,
   "id": "6eabb79e-27aa-440e-aefc-d75c04aab9f8",
   "metadata": {},
   "outputs": [
    {
     "name": "stdout",
     "output_type": "stream",
     "text": [
      "/Users/baj/Documents/Roman/PIT/prism/vela-prism-sims/vela01_cam08_fnu.fits\n",
      "[-9.20726341 21.69823494] pix\n",
      "/Users/baj/Documents/Roman/PIT/prism/vela-prism-sims/vela04_cam00_fnu.fits\n",
      "[-20.4698308   24.68443801] pix\n",
      "/Users/baj/Documents/Roman/PIT/prism/vela-prism-sims/vela05_cam02_fnu.fits\n",
      "[17.83933146 14.21052806] pix\n",
      "/Users/baj/Documents/Roman/PIT/prism/vela-prism-sims/vela06_cam02_fnu_SN.fits\n",
      "[ 15.66912028 -25.05780087] pix\n",
      "/Users/baj/Documents/Roman/PIT/prism/vela-prism-sims/vela11_cam01_fnu.fits\n",
      "[-18.01796761   5.03109459] pix\n"
     ]
    }
   ],
   "source": [
    "## Creating coordinates list\n",
    "coordinatesList = []\n",
    "\n",
    "mean   = 0.0\n",
    "stdDev = 25.0\n",
    "\n",
    "seed = 123859\n",
    "np.random.seed(seed=seed)\n",
    "\n",
    "for datacubeFilename in datacubeFilenames:\n",
    "    print(datacubeFilename)\n",
    "\n",
    "    ## Randomly generate shifts from the central coordinate\n",
    "    shifts = np.random.normal(loc=mean, scale=stdDev, size=2) * u.pix\n",
    "\n",
    "    print(shifts)\n",
    "    \n",
    "    c = DEF_COORDS.spherical_offsets_by(shifts[0] * ROMAN_PIXSCALE, shifts[1] * ROMAN_PIXSCALE)\n",
    "\n",
    "    coordinatesList.append(c)\n",
    "\n",
    "alpha = np.array([c.ra.deg for c in coordinatesList])\n",
    "delta = np.array([c.dec.deg for c in coordinatesList])"
   ]
  },
  {
   "cell_type": "code",
   "execution_count": 35,
   "id": "6278d258-9492-4fd1-b94c-241ad4ff7d74",
   "metadata": {},
   "outputs": [
    {
     "data": {
      "text/plain": [
       "[<SkyCoord (ICRS): (ra, dec) in deg\n",
       "     (4.08230941, -48.422337)>,\n",
       " <SkyCoord (ICRS): (ra, dec) in deg\n",
       "     (4.08179085, -48.42224575)>,\n",
       " <SkyCoord (ICRS): (ra, dec) in deg\n",
       "     (4.08355471, -48.42256579)>,\n",
       " <SkyCoord (ICRS): (ra, dec) in deg\n",
       "     (4.0834548, -48.42376565)>,\n",
       " <SkyCoord (ICRS): (ra, dec) in deg\n",
       "     (4.08190373, -48.42284627)>]"
      ]
     },
     "execution_count": 35,
     "metadata": {},
     "output_type": "execute_result"
    }
   ],
   "source": [
    "coordinatesList"
   ]
  },
  {
   "cell_type": "code",
   "execution_count": 36,
   "id": "22c0d295-69a7-45f6-9538-240f59c83aa0",
   "metadata": {},
   "outputs": [
    {
     "data": {
      "image/png": "[encoded data removed]",
      "text/plain": [
       "<Figure size 800x800 with 1 Axes>"
      ]
     },
     "metadata": {},
     "output_type": "display_data"
    }
   ],
   "source": [
    "xSize = 8\n",
    "ySize = 8\n",
    "\n",
    "plotting.def_plot_values_extra_large()\n",
    "\n",
    "fig, ax = plt.subplots(figsize=(xSize, ySize))\n",
    "\n",
    "ax.plot(DEF_COORDS.ra, DEF_COORDS.dec, 'rx')\n",
    "\n",
    "for c in coordinatesList:\n",
    "    ax.plot(c.ra, c.dec, 'k.')\n",
    "\n",
    "ax.set_aspect('equal')\n",
    "\n",
    "ax.xaxis.set_inverted(True)"
   ]
  },
  {
   "cell_type": "code",
   "execution_count": 37,
   "id": "691b70d1",
   "metadata": {},
   "outputs": [],
   "source": [
    "fig.clear()\n",
    "plt.close(fig)\n",
    "del fig"
   ]
  },
  {
   "cell_type": "code",
   "execution_count": 38,
   "id": "e4c8f946-7637-4a04-87f2-37fc96889587",
   "metadata": {},
   "outputs": [
    {
     "data": {
      "text/plain": [
       "(1546.3846181707652, -892.7916365721071)"
      ]
     },
     "execution_count": 38,
     "metadata": {},
     "output_type": "execute_result"
    }
   ],
   "source": [
    "constants.V2_REF, constants.V3_REF"
   ]
  },
  {
   "cell_type": "code",
   "execution_count": 39,
   "id": "be13740c-d51b-4c72-b151-31dbac945119",
   "metadata": {},
   "outputs": [
    {
     "name": "stdout",
     "output_type": "stream",
     "text": [
      "1312.9491452484797 -1040.7853726755036\n",
      "2 3 13 8.666666666666666\n",
      "45.0 15.0 315.0 WFI01_FULL [ True] [ True  True  True  True  True]\n",
      "65.0 355.0 295.0 WFI01_FULL [ True] [ True  True  True  True  True]\n",
      "85.0 335.0 275.0 WFI01_FULL [ True] [ True  True  True  True  True]\n",
      "105.0 315.0 255.0 WFI01_FULL [ True] [ True  True  True  True  True]\n",
      "ALL DONE!\n"
     ]
    },
    {
     "data": {
      "image/png": "[encoded data removed]",
      "text/plain": [
       "<Figure size 1300x866.667 with 7 Axes>"
      ]
     },
     "metadata": {},
     "output_type": "display_data"
    }
   ],
   "source": [
    "## Find the central coordinates of SCA01 in the v2-v3 plane\n",
    "wfi01_v2, wfi01_v3 = roman_apertures[0].idl_to_tel(0, 0)\n",
    "\n",
    "print(wfi01_v2, wfi01_v3)\n",
    "\n",
    "## Now we plot the detector orientations as a function of roll angle, i.e. the position angle between -x axis and the positive RA axis, measured positive towards NORTH\n",
    "nCols = 3\n",
    "nRows = int(np.ceil(rollAngles.size / nCols))\n",
    "\n",
    "xSize = 13\n",
    "ySize = nRows * xSize / nCols\n",
    "\n",
    "print(nRows, nCols, xSize, ySize)\n",
    "\n",
    "showLabel = False\n",
    "\n",
    "factor = 800.0\n",
    "\n",
    "## Now we rotate the detector around this point and plot\n",
    "fig, axes = plt.subplots(figsize=(xSize, ySize), ncols=nCols, nrows=nRows, sharex=True, sharey=True)\n",
    "\n",
    "for i in range(nRows):\n",
    "    for j in range(nCols):\n",
    "        k = np.ravel_multi_index((i,j), (nRows,nCols))\n",
    "\n",
    "        if (k < rollAngles.size):\n",
    "            rollAngle = rollAngles[k]\n",
    "            pa_v3     = (360.0 * u.deg - pa_y_v3 - rollAngle).wrap_at(360.0 * u.deg)\n",
    "            pa_aper   = (pa_y_v3 + pa_v3).wrap_at(360.0 * u.deg)\n",
    "            \n",
    "            att = rotations.attitude(wfi01_v2, wfi01_v3, DEF_COORDS.ra, DEF_COORDS.dec, pa_v3)\n",
    "\n",
    "            for aperture in roman_apertures:\n",
    "                aperture.set_attitude_matrix(att)\n",
    "\n",
    "                pointing_idl, in_footprint_pointing = astro.footprintContains(aperture, DEF_COORDS.ra, DEF_COORDS.dec, 'idl')\n",
    "                coords_idl, in_footprint_coords     = astro.footprintContains(aperture, alpha, delta, 'idl')\n",
    "\n",
    "                if (in_footprint_pointing.any() and in_footprint_coords.any()):\n",
    "                    print(rollAngle.value, pa_v3.value, pa_aper.value, aperture.AperName, in_footprint_pointing, in_footprint_coords)\n",
    "\n",
    "                    axes[i,j].plot(pointing_idl[:,0], pointing_idl[:,1], 'rx')\n",
    "                    axes[i,j].plot(coords_idl[:,0], coords_idl[:,1], 'k.')\n",
    "\n",
    "            axes[i,j].text(0.05, 0.95, '${0:0.0f}^\\circ$'.format(rollAngle.value), ha='left', va='top', transform=axes[i,j].transAxes)\n",
    "\n",
    "        else:\n",
    "            axes[i,j].set_visible(False)\n",
    "\n",
    "axCommon = plotting.drawCommonLabel(r'$X$ [arcsec]', r'$Y$ [arcsec]', fig, xPad=20, yPad=45)\n",
    "\n",
    "plt.subplots_adjust(wspace=0.0, hspace=0.0)\n",
    "\n",
    "plt.savefig('test_rollAngle_multipleGalaxies.png', bbox_inches='tight', dpi=300)\n",
    "\n",
    "print(\"ALL DONE!\")"
   ]
  },
  {
   "cell_type": "code",
   "execution_count": 40,
   "id": "ad923b7c-db74-45dd-b696-f5f24b421d6d",
   "metadata": {},
   "outputs": [
    {
     "name": "stdout",
     "output_type": "stream",
     "text": [
      "<SkyCoord (ICRS): (ra, dec) in deg\n",
      "    (4.08230941, -48.422337)> /Users/baj/Documents/Roman/PIT/prism/vela-prism-sims/vela01_cam08_fnu.fits\n",
      "<SkyCoord (ICRS): (ra, dec) in deg\n",
      "    (4.08179085, -48.42224575)> /Users/baj/Documents/Roman/PIT/prism/vela-prism-sims/vela04_cam00_fnu.fits\n",
      "<SkyCoord (ICRS): (ra, dec) in deg\n",
      "    (4.08355471, -48.42256579)> /Users/baj/Documents/Roman/PIT/prism/vela-prism-sims/vela05_cam02_fnu.fits\n",
      "<SkyCoord (ICRS): (ra, dec) in deg\n",
      "    (4.0834548, -48.42376565)> /Users/baj/Documents/Roman/PIT/prism/vela-prism-sims/vela06_cam02_fnu_SN.fits\n",
      "<SkyCoord (ICRS): (ra, dec) in deg\n",
      "    (4.08190373, -48.42284627)> /Users/baj/Documents/Roman/PIT/prism/vela-prism-sims/vela11_cam01_fnu.fits\n"
     ]
    }
   ],
   "source": [
    "for coordinate, datacubeFilename in zip(coordinatesList, datacubeFilenames):\n",
    "    print(coordinate, datacubeFilename)"
   ]
  },
  {
   "cell_type": "code",
   "execution_count": null,
   "id": "e5b33d6b-f653-4ea6-9fac-e817de01ac3c",
   "metadata": {},
   "outputs": [
    {
     "name": "stdout",
     "output_type": "stream",
     "text": [
      "15.0 arcsec\n",
      "Loading PSF...\n",
      "Loading throughputs...\n",
      "Resampling PSF...\n",
      "(2049, 411, 411)\n",
      "BG rate: 0.2098973497492946 adu / s\n"
     ]
    },
    {
     "name": "stderr",
     "output_type": "stream",
     "text": [
      "/Users/baj/miniconda3/envs/ilia/lib/python3.10/site-packages/numpy/lib/_function_base_impl.py:2605: RuntimeWarning: invalid value encountered in do_format (vectorized)\n",
      "  outputs = ufunc(*inputs)\n"
     ]
    },
    {
     "name": "stdout",
     "output_type": "stream",
     "text": [
      "4d04m57.77242597s -48d25m22.71968499s 45.0 15.0 315.0 WFI01_FULL 5\n",
      "<SkyCoord (ICRS): (ra, dec) in deg\n",
      "    (4.08230941, -48.422337)> /Users/baj/Documents/Roman/PIT/prism/vela-prism-sims/vela01_cam08_fnu.fits\n",
      "-0.9464785907765942 arcsec 2.315399516835739 arcsec 45d00m00s\n",
      "<SkyCoord (ICRS): (ra, dec) in deg\n",
      "    (4.08179085, -48.42224575)> /Users/baj/Documents/Roman/PIT/prism/vela-prism-sims/vela04_cam00_fnu.fits\n"
     ]
    },
    {
     "name": "stderr",
     "output_type": "stream",
     "text": [
      "/Users/baj/miniconda3/envs/ilia/lib/python3.10/site-packages/numpy/lib/_function_base_impl.py:2605: RuntimeWarning: invalid value encountered in do_format (vectorized)\n",
      "  outputs = ufunc(*inputs)\n",
      "/Users/baj/miniconda3/envs/ilia/lib/python3.10/site-packages/ilia/tools/interpolation.py:83: RuntimeWarning: divide by zero encountered in divide\n",
      "  return sparse.spdiags(np.nan_to_num(1.0 / (a @ w)).reshape((1, -1)), 0) @ a @ sparse.spdiags(w.reshape((1, -1)), 0)\n"
     ]
    },
    {
     "name": "stdout",
     "output_type": "stream",
     "text": [
      "-0.302720727460565 arcsec 3.423708029957117 arcsec 45d00m00s\n",
      "<SkyCoord (ICRS): (ra, dec) in deg\n",
      "    (4.08355471, -48.42256579)> /Users/baj/Documents/Roman/PIT/prism/vela-prism-sims/vela05_cam02_fnu.fits\n",
      "-2.4678219653096862 arcsec -0.37077304461229743 arcsec 45d00m00s\n",
      "<SkyCoord (ICRS): (ra, dec) in deg\n",
      "    (4.0834548, -48.42376565)> /Users/baj/Documents/Roman/PIT/prism/vela-prism-sims/vela06_cam02_fnu_SN.fits\n",
      "0.7553349493968977 arcsec -3.256338568742568 arcsec 45d00m00s\n",
      "<SkyCoord (ICRS): (ra, dec) in deg\n",
      "    (4.08190373, -48.42284627)> /Users/baj/Documents/Roman/PIT/prism/vela-prism-sims/vela11_cam01_fnu.fits\n",
      "1.0352357496455946 arcsec 1.7043178473961695 arcsec 45d00m00s\n",
      "Number of jobs: 5\n",
      "Filename: (No file associated with this HDUList)\n",
      "No.    Name      Ver    Type      Cards   Dimensions   Format\n",
      "  0  PRIMARY       1 PrimaryHDU       7   ()      \n",
      "  1  SCI           1 ImageHDU        38   (4088, 4088)   float64   \n",
      "  2  ERR           1 ImageHDU        38   (4088, 4088)   float64   \n",
      "  3  DQ            1 ImageHDU        38   (4088, 4088)   int16   \n",
      "  4  TRUE          1 ImageHDU        38   (4088, 4088)   float64   \n",
      "Image written to /Users/baj/Documents/Roman/PIT/prism/hostlight_subtraction/simdata_prism_galsn/test_2d_multipleGalaxies_WFI_WFI01_FULL_F106_rollAngle045.fits\n",
      "DONE! ELAPSED TIME: 0 h 31 m 50.638 s\n",
      "Resampling PSF...\n",
      "(624, 411, 411)\n",
      "BG rate: 2.0204619930315286 adu / s\n"
     ]
    },
    {
     "name": "stderr",
     "output_type": "stream",
     "text": [
      "/Users/baj/miniconda3/envs/ilia/lib/python3.10/site-packages/numpy/lib/_function_base_impl.py:2605: RuntimeWarning: invalid value encountered in do_format (vectorized)\n",
      "  outputs = ufunc(*inputs)\n"
     ]
    },
    {
     "name": "stdout",
     "output_type": "stream",
     "text": [
      "4d04m57.75481103s -48d25m22.87652958s 45.0 15.0 315.0 WFI01_FULL 5\n",
      "<SkyCoord (ICRS): (ra, dec) in deg\n",
      "    (4.08230941, -48.422337)> /Users/baj/Documents/Roman/PIT/prism/vela-prism-sims/vela01_cam08_fnu.fits\n",
      "-1.0656503261545978 arcsec 2.4180397570898498 arcsec 45d00m00s\n",
      "<SkyCoord (ICRS): (ra, dec) in deg\n",
      "    (4.08179085, -48.42224575)> /Users/baj/Documents/Roman/PIT/prism/vela-prism-sims/vela04_cam00_fnu.fits\n",
      "-0.4218925368383246 arcsec 3.5263483075997604 arcsec 45d00m00s\n",
      "<SkyCoord (ICRS): (ra, dec) in deg\n",
      "    (4.08355471, -48.42256579)> /Users/baj/Documents/Roman/PIT/prism/vela-prism-sims/vela05_cam02_fnu.fits\n",
      "-2.5869935213321513 arcsec -0.2681328925519044 arcsec 45d00m00s\n",
      "<SkyCoord (ICRS): (ra, dec) in deg\n",
      "    (4.0834548, -48.42376565)> /Users/baj/Documents/Roman/PIT/prism/vela-prism-sims/vela06_cam02_fnu_SN.fits\n",
      "0.6361635814923496 arcsec -3.153698205533755 arcsec 45d00m00s\n",
      "<SkyCoord (ICRS): (ra, dec) in deg\n",
      "    (4.08190373, -48.42284627)> /Users/baj/Documents/Roman/PIT/prism/vela-prism-sims/vela11_cam01_fnu.fits\n"
     ]
    },
    {
     "name": "stderr",
     "output_type": "stream",
     "text": [
      "/Users/baj/miniconda3/envs/ilia/lib/python3.10/site-packages/ilia/tools/interpolation.py:83: RuntimeWarning: divide by zero encountered in divide\n",
      "  return sparse.spdiags(np.nan_to_num(1.0 / (a @ w)).reshape((1, -1)), 0) @ a @ sparse.spdiags(w.reshape((1, -1)), 0)\n"
     ]
    },
    {
     "name": "stdout",
     "output_type": "stream",
     "text": [
      "0.9160640528821596 arcsec 1.8069582141486888 arcsec 45d00m00s\n",
      "Number of jobs: 5\n",
      "Filename: (No file associated with this HDUList)\n",
      "No.    Name      Ver    Type      Cards   Dimensions   Format\n",
      "  0  PRIMARY       1 PrimaryHDU       7   ()      \n",
      "  1  SCI           1 ImageHDU        38   (4088, 4088)   float64   \n",
      "  2  ERR           1 ImageHDU        38   (4088, 4088)   float64   \n",
      "  3  DQ            1 ImageHDU        38   (4088, 4088)   int16   \n",
      "  4  TRUE          1 ImageHDU        38   (4088, 4088)   float64   \n",
      "Image written to /Users/baj/Documents/Roman/PIT/prism/hostlight_subtraction/simdata_prism_galsn/test_2d_multipleGalaxies_WFI_WFI01_FULL_prism_rollAngle045.fits\n",
      "DONE! ELAPSED TIME: 0 h 13 m 48.937 s\n",
      "Resampling PSF...\n",
      "(2049, 411, 411)\n",
      "BG rate: 0.2098973497492946 adu / s\n"
     ]
    },
    {
     "name": "stderr",
     "output_type": "stream",
     "text": [
      "/Users/baj/miniconda3/envs/ilia/lib/python3.10/site-packages/numpy/lib/_function_base_impl.py:2605: RuntimeWarning: invalid value encountered in do_format (vectorized)\n",
      "  outputs = ufunc(*inputs)\n"
     ]
    },
    {
     "name": "stdout",
     "output_type": "stream",
     "text": [
      "4d04m57.91585309s -48d25m22.85701594s 65.0 355.0 295.0 WFI01_FULL 5\n",
      "<SkyCoord (ICRS): (ra, dec) in deg\n",
      "    (4.08230941, -48.422337)> /Users/baj/Documents/Roman/PIT/prism/vela-prism-sims/vela01_cam08_fnu.fits\n",
      "-1.7655476915263044 arcsec 1.9963428694165013 arcsec 65d00m00s\n",
      "<SkyCoord (ICRS): (ra, dec) in deg\n",
      "    (4.08179085, -48.42224575)> /Users/baj/Documents/Roman/PIT/prism/vela-prism-sims/vela04_cam00_fnu.fits\n"
     ]
    },
    {
     "name": "stderr",
     "output_type": "stream",
     "text": [
      "/Users/baj/miniconda3/envs/ilia/lib/python3.10/site-packages/ilia/tools/interpolation.py:83: RuntimeWarning: divide by zero encountered in divide\n",
      "  return sparse.spdiags(np.nan_to_num(1.0 / (a @ w)).reshape((1, -1)), 0) @ a @ sparse.spdiags(w.reshape((1, -1)), 0)\n"
     ]
    },
    {
     "name": "stdout",
     "output_type": "stream",
     "text": [
      "-1.53967152512509 arcsec 3.2579874492388936 arcsec 65d00m00s\n",
      "<SkyCoord (ICRS): (ra, dec) in deg\n",
      "    (4.08355471, -48.42256579)> /Users/baj/Documents/Roman/PIT/prism/vela-prism-sims/vela05_cam02_fnu.fits\n",
      "-2.2764308771315362 arcsec -1.04815667819767 arcsec 65d00m00s\n",
      "<SkyCoord (ICRS): (ra, dec) in deg\n",
      "    (4.0834548, -48.42376565)> /Users/baj/Documents/Roman/PIT/prism/vela-prism-sims/vela06_cam02_fnu_SN.fits\n",
      "1.7392724762008824 arcsec -2.6573008711167425 arcsec 65d00m00s\n",
      "<SkyCoord (ICRS): (ra, dec) in deg\n",
      "    (4.08190373, -48.42284627)> /Users/baj/Documents/Roman/PIT/prism/vela-prism-sims/vela11_cam01_fnu.fits\n",
      "0.30566306690750966 arcsec 2.099905651192823 arcsec 65d00m00s\n",
      "Number of jobs: 5\n",
      "Filename: (No file associated with this HDUList)\n",
      "No.    Name      Ver    Type      Cards   Dimensions   Format\n",
      "  0  PRIMARY       1 PrimaryHDU       7   ()      \n",
      "  1  SCI           1 ImageHDU        38   (4088, 4088)   float64   \n",
      "  2  ERR           1 ImageHDU        38   (4088, 4088)   float64   \n",
      "  3  DQ            1 ImageHDU        38   (4088, 4088)   int16   \n",
      "  4  TRUE          1 ImageHDU        38   (4088, 4088)   float64   \n",
      "Image written to /Users/baj/Documents/Roman/PIT/prism/hostlight_subtraction/simdata_prism_galsn/test_2d_multipleGalaxies_WFI_WFI01_FULL_F106_rollAngle065.fits\n",
      "DONE! ELAPSED TIME: 0 h 32 m 3.286 s\n",
      "Resampling PSF...\n",
      "(624, 411, 411)\n",
      "BG rate: 2.0204619930315286 adu / s\n"
     ]
    },
    {
     "name": "stderr",
     "output_type": "stream",
     "text": [
      "/Users/baj/miniconda3/envs/ilia/lib/python3.10/site-packages/numpy/lib/_function_base_impl.py:2605: RuntimeWarning: invalid value encountered in do_format (vectorized)\n",
      "  outputs = ufunc(*inputs)\n"
     ]
    },
    {
     "name": "stdout",
     "output_type": "stream",
     "text": [
      "4d04m57.86313675s -48d25m22.69146321s 65.0 355.0 295.0 WFI01_FULL 5\n",
      "<SkyCoord (ICRS): (ra, dec) in deg\n",
      "    (4.08230941, -48.422337)> /Users/baj/Documents/Roman/PIT/prism/vela-prism-sims/vela01_cam08_fnu.fits\n",
      "-1.6302913105325834 arcsec 1.894670502017044 arcsec 65d00m00s\n",
      "<SkyCoord (ICRS): (ra, dec) in deg\n",
      "    (4.08179085, -48.42224575)> /Users/baj/Documents/Roman/PIT/prism/vela-prism-sims/vela04_cam00_fnu.fits\n",
      "-1.4044153822451866 arcsec 3.1563151291910625 arcsec 65d00m00s\n",
      "<SkyCoord (ICRS): (ra, dec) in deg\n",
      "    (4.08355471, -48.42256579)> /Users/baj/Documents/Roman/PIT/prism/vela-prism-sims/vela05_cam02_fnu.fits\n",
      "-2.1411739215270087 arcsec -1.1498291532844234 arcsec 65d00m00s\n",
      "<SkyCoord (ICRS): (ra, dec) in deg\n",
      "    (4.0834548, -48.42376565)> /Users/baj/Documents/Roman/PIT/prism/vela-prism-sims/vela06_cam02_fnu_SN.fits\n",
      "1.8745297399037186 arcsec -2.7589725782893777 arcsec 65d00m00s\n",
      "<SkyCoord (ICRS): (ra, dec) in deg\n",
      "    (4.08190373, -48.42284627)> /Users/baj/Documents/Roman/PIT/prism/vela-prism-sims/vela11_cam01_fnu.fits\n"
     ]
    },
    {
     "name": "stderr",
     "output_type": "stream",
     "text": [
      "/Users/baj/miniconda3/envs/ilia/lib/python3.10/site-packages/ilia/tools/interpolation.py:83: RuntimeWarning: divide by zero encountered in divide\n",
      "  return sparse.spdiags(np.nan_to_num(1.0 / (a @ w)).reshape((1, -1)), 0) @ a @ sparse.spdiags(w.reshape((1, -1)), 0)\n"
     ]
    },
    {
     "name": "stdout",
     "output_type": "stream",
     "text": [
      "0.4409194304727355 arcsec 1.998233682755948 arcsec 65d00m00s\n",
      "Number of jobs: 5\n",
      "Filename: (No file associated with this HDUList)\n",
      "No.    Name      Ver    Type      Cards   Dimensions   Format\n",
      "  0  PRIMARY       1 PrimaryHDU       7   ()      \n",
      "  1  SCI           1 ImageHDU        38   (4088, 4088)   float64   \n",
      "  2  ERR           1 ImageHDU        38   (4088, 4088)   float64   \n",
      "  3  DQ            1 ImageHDU        38   (4088, 4088)   int16   \n",
      "  4  TRUE          1 ImageHDU        38   (4088, 4088)   float64   \n",
      "Image written to /Users/baj/Documents/Roman/PIT/prism/hostlight_subtraction/simdata_prism_galsn/test_2d_multipleGalaxies_WFI_WFI01_FULL_prism_rollAngle065.fits\n",
      "DONE! ELAPSED TIME: 0 h 12 m 56.224 s\n",
      "Resampling PSF...\n",
      "(2049, 411, 411)\n",
      "BG rate: 0.2098973497492946 adu / s\n"
     ]
    },
    {
     "name": "stderr",
     "output_type": "stream",
     "text": [
      "/Users/baj/miniconda3/envs/ilia/lib/python3.10/site-packages/numpy/lib/_function_base_impl.py:2605: RuntimeWarning: invalid value encountered in do_format (vectorized)\n",
      "  outputs = ufunc(*inputs)\n"
     ]
    },
    {
     "name": "stdout",
     "output_type": "stream",
     "text": [
      "4d04m57.85695268s -48d25m22.76740791s 85.0 335.0 275.0 WFI01_FULL 5\n",
      "<SkyCoord (ICRS): (ra, dec) in deg\n",
      "    (4.08230941, -48.422337)> /Users/baj/Documents/Roman/PIT/prism/vela-prism-sims/vela01_cam08_fnu.fits\n",
      "-2.2560038395534137 arcsec 1.2253350548415864 arcsec 85d00m00s\n",
      "<SkyCoord (ICRS): (ra, dec) in deg\n",
      "    (4.08179085, -48.42224575)> /Users/baj/Documents/Roman/PIT/prism/vela-prism-sims/vela04_cam00_fnu.fits\n"
     ]
    },
    {
     "name": "stderr",
     "output_type": "stream",
     "text": [
      "/Users/baj/miniconda3/envs/ilia/lib/python3.10/site-packages/ilia/tools/interpolation.py:83: RuntimeWarning: divide by zero encountered in divide\n",
      "  return sparse.spdiags(np.nan_to_num(1.0 / (a @ w)).reshape((1, -1)), 0) @ a @ sparse.spdiags(w.reshape((1, -1)), 0)\n"
     ]
    },
    {
     "name": "stdout",
     "output_type": "stream",
     "text": [
      "-2.47525419437834 arcsec 2.4881430660691595 arcsec 85d00m00s\n",
      "<SkyCoord (ICRS): (ra, dec) in deg\n",
      "    (4.08355471, -48.42256579)> /Users/baj/Documents/Roman/PIT/prism/vela-prism-sims/vela05_cam02_fnu.fits\n",
      "-1.6948047604509777 arcsec -1.8102806260868758 arcsec 85d00m00s\n",
      "<SkyCoord (ICRS): (ra, dec) in deg\n",
      "    (4.0834548, -48.42376565)> /Users/baj/Documents/Roman/PIT/prism/vela-prism-sims/vela06_cam02_fnu_SN.fits\n",
      "2.6290934770647616 arcsec -1.948914295361167 arcsec 85d00m00s\n",
      "<SkyCoord (ICRS): (ra, dec) in deg\n",
      "    (4.08190373, -48.42284627)> /Users/baj/Documents/Roman/PIT/prism/vela-prism-sims/vela11_cam01_fnu.fits\n",
      "-0.34511508639632305 arcsec 2.0310525106187747 arcsec 85d00m00s\n",
      "Number of jobs: 5\n",
      "Filename: (No file associated with this HDUList)\n",
      "No.    Name      Ver    Type      Cards   Dimensions   Format\n",
      "  0  PRIMARY       1 PrimaryHDU       7   ()      \n",
      "  1  SCI           1 ImageHDU        38   (4088, 4088)   float64   \n",
      "  2  ERR           1 ImageHDU        38   (4088, 4088)   float64   \n",
      "  3  DQ            1 ImageHDU        38   (4088, 4088)   int16   \n",
      "  4  TRUE          1 ImageHDU        38   (4088, 4088)   float64   \n",
      "Image written to /Users/baj/Documents/Roman/PIT/prism/hostlight_subtraction/simdata_prism_galsn/test_2d_multipleGalaxies_WFI_WFI01_FULL_F106_rollAngle085.fits\n",
      "DONE! ELAPSED TIME: 0 h 36 m 0.264 s\n",
      "Resampling PSF...\n",
      "(624, 411, 411)\n",
      "BG rate: 2.0204619930315286 adu / s\n"
     ]
    },
    {
     "name": "stderr",
     "output_type": "stream",
     "text": [
      "/Users/baj/miniconda3/envs/ilia/lib/python3.10/site-packages/numpy/lib/_function_base_impl.py:2605: RuntimeWarning: invalid value encountered in do_format (vectorized)\n",
      "  outputs = ufunc(*inputs)\n"
     ]
    },
    {
     "name": "stdout",
     "output_type": "stream",
     "text": [
      "4d04m57.72940002s -48d25m22.8590236s 85.0 335.0 275.0 WFI01_FULL 5\n",
      "<SkyCoord (ICRS): (ra, dec) in deg\n",
      "    (4.08230941, -48.422337)> /Users/baj/Documents/Roman/PIT/prism/vela-prism-sims/vela01_cam08_fnu.fits\n",
      "-2.3546496812845294 arcsec 1.1489924130173255 arcsec 85d00m00s\n",
      "<SkyCoord (ICRS): (ra, dec) in deg\n",
      "    (4.08179085, -48.42224575)> /Users/baj/Documents/Roman/PIT/prism/vela-prism-sims/vela04_cam00_fnu.fits\n",
      "-2.5739006172728076 arcsec 2.4118003224471574 arcsec 85d00m00s\n",
      "<SkyCoord (ICRS): (ra, dec) in deg\n",
      "    (4.08355471, -48.42256579)> /Users/baj/Documents/Roman/PIT/prism/vela-prism-sims/vela05_cam02_fnu.fits\n",
      "-1.7934492051285975 arcsec -1.8866230075176627 arcsec 85d00m00s\n",
      "<SkyCoord (ICRS): (ra, dec) in deg\n",
      "    (4.0834548, -48.42376565)> /Users/baj/Documents/Roman/PIT/prism/vela-prism-sims/vela06_cam02_fnu_SN.fits\n",
      "2.530449094968787 arcsec -2.025254690808763 arcsec 85d00m00s\n",
      "<SkyCoord (ICRS): (ra, dec) in deg\n",
      "    (4.08190373, -48.42284627)> /Users/baj/Documents/Roman/PIT/prism/vela-prism-sims/vela11_cam01_fnu.fits\n"
     ]
    },
    {
     "name": "stderr",
     "output_type": "stream",
     "text": [
      "/Users/baj/miniconda3/envs/ilia/lib/python3.10/site-packages/ilia/tools/interpolation.py:83: RuntimeWarning: divide by zero encountered in divide\n",
      "  return sparse.spdiags(np.nan_to_num(1.0 / (a @ w)).reshape((1, -1)), 0) @ a @ sparse.spdiags(w.reshape((1, -1)), 0)\n"
     ]
    },
    {
     "name": "stdout",
     "output_type": "stream",
     "text": [
      "-0.44376129951234244 arcsec 1.954710745717822 arcsec 85d00m00s\n",
      "Number of jobs: 5\n",
      "Filename: (No file associated with this HDUList)\n",
      "No.    Name      Ver    Type      Cards   Dimensions   Format\n",
      "  0  PRIMARY       1 PrimaryHDU       7   ()      \n",
      "  1  SCI           1 ImageHDU        38   (4088, 4088)   float64   \n",
      "  2  ERR           1 ImageHDU        38   (4088, 4088)   float64   \n",
      "  3  DQ            1 ImageHDU        38   (4088, 4088)   int16   \n",
      "  4  TRUE          1 ImageHDU        38   (4088, 4088)   float64   \n",
      "Image written to /Users/baj/Documents/Roman/PIT/prism/hostlight_subtraction/simdata_prism_galsn/test_2d_multipleGalaxies_WFI_WFI01_FULL_prism_rollAngle085.fits\n",
      "DONE! ELAPSED TIME: 0 h 11 m 59.540 s\n",
      "Resampling PSF...\n",
      "(2049, 411, 411)\n",
      "BG rate: 0.2098973497492946 adu / s\n"
     ]
    },
    {
     "name": "stderr",
     "output_type": "stream",
     "text": [
      "/Users/baj/miniconda3/envs/ilia/lib/python3.10/site-packages/numpy/lib/_function_base_impl.py:2605: RuntimeWarning: invalid value encountered in do_format (vectorized)\n",
      "  outputs = ufunc(*inputs)\n"
     ]
    },
    {
     "name": "stdout",
     "output_type": "stream",
     "text": [
      "4d04m57.73530847s -48d25m22.83764106s 105.0 315.0 255.0 WFI01_FULL 5\n",
      "<SkyCoord (ICRS): (ra, dec) in deg\n",
      "    (4.08230941, -48.422337)> /Users/baj/Documents/Roman/PIT/prism/vela-prism-sims/vela01_cam08_fnu.fits\n",
      "-2.5859925959925096 arcsec 0.28367451758036466 arcsec 105d00m00s\n",
      "<SkyCoord (ICRS): (ra, dec) in deg\n",
      "    (4.08179085, -48.42224575)> /Users/baj/Documents/Roman/PIT/prism/vela-prism-sims/vela04_cam00_fnu.fits\n"
     ]
    },
    {
     "name": "stderr",
     "output_type": "stream",
     "text": [
      "/Users/baj/miniconda3/envs/ilia/lib/python3.10/site-packages/ilia/tools/interpolation.py:83: RuntimeWarning: divide by zero encountered in divide\n",
      "  return sparse.spdiags(np.nan_to_num(1.0 / (a @ w)).reshape((1, -1)), 0) @ a @ sparse.spdiags(w.reshape((1, -1)), 0)\n"
     ]
    },
    {
     "name": "stdout",
     "output_type": "stream",
     "text": [
      "-3.22392486095714 arcsec 1.3953323773599482 arcsec 105d00m00s\n",
      "<SkyCoord (ICRS): (ra, dec) in deg\n",
      "    (4.08355471, -48.42256579)> /Users/baj/Documents/Roman/PIT/prism/vela-prism-sims/vela05_cam02_fnu.fits\n",
      "-1.020399604159983 arcsec -2.376916465587917 arcsec 105d00m00s\n",
      "<SkyCoord (ICRS): (ra, dec) in deg\n",
      "    (4.0834548, -48.42376565)> /Users/baj/Documents/Roman/PIT/prism/vela-prism-sims/vela06_cam02_fnu_SN.fits\n",
      "3.090166620508198 arcsec -1.0283173598402455 arcsec 105d00m00s\n",
      "<SkyCoord (ICRS): (ra, dec) in deg\n",
      "    (4.08190373, -48.42284627)> /Users/baj/Documents/Roman/PIT/prism/vela-prism-sims/vela11_cam01_fnu.fits\n",
      "-1.0659078065543528 arcsec 1.6943654628495288 arcsec 105d00m00s\n",
      "Number of jobs: 5\n",
      "Filename: (No file associated with this HDUList)\n",
      "No.    Name      Ver    Type      Cards   Dimensions   Format\n",
      "  0  PRIMARY       1 PrimaryHDU       7   ()      \n",
      "  1  SCI           1 ImageHDU        38   (4088, 4088)   float64   \n",
      "  2  ERR           1 ImageHDU        38   (4088, 4088)   float64   \n",
      "  3  DQ            1 ImageHDU        38   (4088, 4088)   int16   \n",
      "  4  TRUE          1 ImageHDU        38   (4088, 4088)   float64   \n",
      "Image written to /Users/baj/Documents/Roman/PIT/prism/hostlight_subtraction/simdata_prism_galsn/test_2d_multipleGalaxies_WFI_WFI01_FULL_F106_rollAngle105.fits\n",
      "DONE! ELAPSED TIME: 0 h 25 m 19.901 s\n",
      "Resampling PSF...\n",
      "(624, 411, 411)\n",
      "BG rate: 2.0204619930315286 adu / s\n"
     ]
    },
    {
     "name": "stderr",
     "output_type": "stream",
     "text": [
      "/Users/baj/miniconda3/envs/ilia/lib/python3.10/site-packages/numpy/lib/_function_base_impl.py:2605: RuntimeWarning: invalid value encountered in do_format (vectorized)\n",
      "  outputs = ufunc(*inputs)\n"
     ]
    },
    {
     "name": "stdout",
     "output_type": "stream",
     "text": [
      "4d04m57.85523214s -48d25m22.75892972s 105.0 315.0 255.0 WFI01_FULL 5\n",
      "<SkyCoord (ICRS): (ra, dec) in deg\n",
      "    (4.08230941, -48.422337)> /Users/baj/Documents/Roman/PIT/prism/vela-prism-sims/vela01_cam08_fnu.fits\n",
      "-2.530560395592605 arcsec 0.38092154011820123 arcsec 105d00m00s\n",
      "<SkyCoord (ICRS): (ra, dec) in deg\n",
      "    (4.08179085, -48.42224575)> /Users/baj/Documents/Roman/PIT/prism/vela-prism-sims/vela04_cam00_fnu.fits\n",
      "-3.168492180095556 arcsec 1.4925796756024892 arcsec 105d00m00s\n",
      "<SkyCoord (ICRS): (ra, dec) in deg\n",
      "    (4.08355471, -48.42256579)> /Users/baj/Documents/Roman/PIT/prism/vela-prism-sims/vela05_cam02_fnu.fits\n",
      "-0.9649685536238779 arcsec -2.279670119689239 arcsec 105d00m00s\n",
      "<SkyCoord (ICRS): (ra, dec) in deg\n",
      "    (4.0834548, -48.42376565)> /Users/baj/Documents/Roman/PIT/prism/vela-prism-sims/vela06_cam02_fnu_SN.fits\n",
      "3.145598253849718 arcsec -0.931072790537639 arcsec 105d00m00s\n",
      "<SkyCoord (ICRS): (ra, dec) in deg\n",
      "    (4.08190373, -48.42284627)> /Users/baj/Documents/Roman/PIT/prism/vela-prism-sims/vela11_cam01_fnu.fits\n"
     ]
    },
    {
     "name": "stderr",
     "output_type": "stream",
     "text": [
      "/Users/baj/miniconda3/envs/ilia/lib/python3.10/site-packages/ilia/tools/interpolation.py:83: RuntimeWarning: divide by zero encountered in divide\n",
      "  return sparse.spdiags(np.nan_to_num(1.0 / (a @ w)).reshape((1, -1)), 0) @ a @ sparse.spdiags(w.reshape((1, -1)), 0)\n"
     ]
    },
    {
     "name": "stdout",
     "output_type": "stream",
     "text": [
      "-1.0104749964858204 arcsec 1.791611828389795 arcsec 105d00m00s\n",
      "Number of jobs: 5\n",
      "Filename: (No file associated with this HDUList)\n",
      "No.    Name      Ver    Type      Cards   Dimensions   Format\n",
      "  0  PRIMARY       1 PrimaryHDU       7   ()      \n",
      "  1  SCI           1 ImageHDU        38   (4088, 4088)   float64   \n",
      "  2  ERR           1 ImageHDU        38   (4088, 4088)   float64   \n",
      "  3  DQ            1 ImageHDU        38   (4088, 4088)   int16   \n",
      "  4  TRUE          1 ImageHDU        38   (4088, 4088)   float64   \n",
      "Image written to /Users/baj/Documents/Roman/PIT/prism/hostlight_subtraction/simdata_prism_galsn/test_2d_multipleGalaxies_WFI_WFI01_FULL_prism_rollAngle105.fits\n",
      "DONE! ELAPSED TIME: 0 h 10 m 57.254 s\n",
      "ALL DONE! ELAPSED TIME: 3 h 20 m 36.744 s\n"
     ]
    },
    {
     "ename": "",
     "evalue": "",
     "output_type": "error",
     "traceback": [
      "\u001b[1;31mThe Kernel crashed while executing code in the current cell or a previous cell. \n",
      "\u001b[1;31mPlease review the code in the cell(s) to identify a possible cause of the failure. \n",
      "\u001b[1;31mClick <a href='https://aka.ms/vscodeJupyterKernelCrash'>here</a> for more info. \n",
      "\u001b[1;31mView Jupyter <a href='command:jupyter.viewOutput'>log</a> for further details."
     ]
    }
   ],
   "source": [
    "subtractBackground = True\n",
    "\n",
    "nCPUs = None\n",
    "\n",
    "exposureTime = 900.0 * u.s\n",
    "\n",
    "filterNames = ['F106', 'prism']\n",
    "\n",
    "nPP_PSF, nQQ_PSF = 51, 51\n",
    "oversample_PSF   = scenes_oversample ## MUST BE SAME AS THE OVERSAMPLING RATE OF THE SCENE!\n",
    "\n",
    "nP_PSF, nQ_PSF = nPP_PSF * oversample_PSF, nQQ_PSF * oversample_PSF\n",
    "\n",
    "nWX_PSF = 2 * nQ_PSF - 1\n",
    "nWY_PSF = 2 * nP_PSF - 1\n",
    "\n",
    "FoV_PSF = getPSFFoV(nP_PSF, nQ_PSF, oversample_PSF)\n",
    "\n",
    "print(FoV_PSF)\n",
    "\n",
    "print(\"Loading PSF...\")\n",
    "PSF = StandardRomanPSF(FoV_PSF, oversample_PSF)\n",
    "\n",
    "print(\"Loading throughputs...\")\n",
    "AEff = RomanEffectiveArea(pandeia=False, useNew=True)\n",
    "\n",
    "bg = Background()\n",
    "\n",
    "startTimeAll = time.time()\n",
    "for rollAngle in rollAngles:\n",
    "    pa_v3     = (360.0 * u.deg - pa_y_v3 - rollAngle).wrap_at(360.0 * u.deg)\n",
    "    pa_aper   = (pa_y_v3 + pa_v3).wrap_at(360.0 * u.deg)\n",
    "\n",
    "    ## Point the \n",
    "    att = rotations.attitude(wfi01_v2, wfi01_v3, DEF_COORDS.ra, DEF_COORDS.dec, pa_v3)\n",
    "\n",
    "    for filterName in filterNames:\n",
    "        weight = 1.0 / scenes_oversample\n",
    "        if (filterName == 'grism'):\n",
    "            disperser = RomanGrism(oversample=scenes_oversample, centered=True)\n",
    "        elif (filterName == 'prism'):\n",
    "            disperser = RomanPrism(oversample=scenes_oversample, centered=True)\n",
    "        else:\n",
    "            disperser = RomanFilter()\n",
    "            weight    = 1.0\n",
    "            \n",
    "        wavePix    = disperser.getWavelengthPixels()\n",
    "        pixCoords  = disperser.getPixelCoordinates()\n",
    "        dispersion = disperser.getDispersionCurve()\n",
    "\n",
    "        print(\"Resampling PSF...\")\n",
    "        psf       = PSF.getResampledPSF(wavePix)\n",
    "        effArea   = AEff.getEffectiveArea(wavePix, filterName)\n",
    "        nonZeroes = np.argwhere(effArea > 0).flatten()\n",
    "\n",
    "        print(psf.shape)\n",
    "\n",
    "        bgPhotonRate = (syn.units.convert_flux(wavePix, bg.getBackground(wavePix, oversample=scenes_oversample), syn.units.PHOTLAM) * effArea * dispersion / scenes_oversample).decompose()\n",
    "        \n",
    "        bgRate = bgPhotonRate.sum().value * (scenes_oversample ** 2) * u.adu / u.s\n",
    "\n",
    "        print(\"BG rate:\", bgRate)\n",
    "\n",
    "        ## Set the pointing. Add a sub-pixel randomness to the pointing\n",
    "        randomShiftAlpha = (-1.0 + 2.0*np.random.rand()) * u.pix\n",
    "        randomShiftDelta = (-1.0 + 2.0*np.random.rand()) * u.pix\n",
    "\n",
    "        ## Pointing is the coordinates plus randomnes\n",
    "        pointing = DEF_COORDS.spherical_offsets_by(randomShiftAlpha * ROMAN_PIXSCALE, randomShiftDelta * ROMAN_PIXSCALE)\n",
    "\n",
    "        ## Calculate the attitude matrix given. Input is where we want to center the detectors (in this case\n",
    "        ## it is the center of WFI01, the pointing coordinates, and the roll angle\n",
    "        att = rotations.attitude(wfi01_v2, wfi01_v3, pointing.ra, pointing.dec, pa_v3)\n",
    "\n",
    "        ## Cycle over all the detectors\n",
    "        for aperture in roman_apertures:\n",
    "            aperture.set_attitude_matrix(att)\n",
    "\n",
    "            ## Given the RA and DEC of the objects, get the ideal detector coordinates for THIS detector\n",
    "            ## as well as the whether it is in the footprint of the detector\n",
    "            coords_idl, in_footprint_coords = astro.footprintContains(aperture, alpha, delta, 'idl')\n",
    "\n",
    "            ## IF ANY OF THESE COORDINATES ARE IN THE FOOTPRINT, THEN WE'RE IN BUSINESS AND WE CAN START SIMULATING\n",
    "            if in_footprint_coords.any():\n",
    "                print(pointing.ra, pointing.dec, rollAngle.value, pa_v3.value, pa_aper.value, aperture.AperName, in_footprint_coords[in_footprint_coords].size)\n",
    "        \n",
    "                psfDrizzleMatrix = drz.getAreaFractionMatrix(psf.shape[2], psf.shape[1], 0, 0, pa_aper, \n",
    "                                                             constants.ROMAN_PIXSCALE / float(oversample_PSF), \n",
    "                                                             nXOut=nWX_PSF, nYOut=nWY_PSF, oversample=1)\n",
    "        \n",
    "                naxis1, naxis2 = aperture.XSciSize, aperture.YSciSize\n",
    "                crpix1, crpix2 = aperture.XSciRef, aperture.YSciRef\n",
    "    \n",
    "                ## This is how we transform the crpix1, crpix2 coordinate, which is a 1-indexed, full-integer image grid,\n",
    "                ## into the coordinate of a zero-indexed, half-integer grid (the grid of pypolyclip)\n",
    "                xCOut, yCOut = crpix1 - 0.5, crpix2 - 0.5\n",
    "        \n",
    "                downsample = 1.0 / float(scenes_oversample)\n",
    "    \n",
    "                specRate = np.zeros((naxis2, naxis1))\n",
    "    \n",
    "                def dropImage(thisScene, dx, dy, angle):\n",
    "                    nP, nQ = thisScene.nP, thisScene.nQ\n",
    "                    thisScene.resampleScene(wavePix)\n",
    "                    if (filterName != 'grism') and (filterName != 'prism'):\n",
    "                        drzMatrix = drz.getAreaFractionMatrix(nQ, nP, dx, dy, angle, constants.ROMAN_PIXSCALE / float(scenes_oversample), \n",
    "                                                              nXOut=naxis1, nYOut=naxis2, xCOut=xCOut, yCOut=yCOut, oversample=downsample)\n",
    "                    \n",
    "                    thisSpecRate = np.zeros((naxis2, naxis1))\n",
    "                    for l in range(wavePix.size):\n",
    "                        rotatedPSF     = (psfDrizzleMatrix @ np.nan_to_num(psf[l]).flatten()).reshape((nWY_PSF, nWX_PSF))\n",
    "                        convolvedImage = thisScene.getConvolvedResampledMonochromaticSlice(l, rotatedPSF)\n",
    "                        \n",
    "                        photonRate = (convolvedImage * effArea[l] * dispersion[l] * weight).decompose()\n",
    "                        photonRate = (photonRate * 1.0 * u.adu / u.ph).decompose() ## Conversion rate from photon to ADU\n",
    "        \n",
    "                        if (filterName == 'grism') or (filterName == 'prism'):\n",
    "                            shiftY_arcsec = pixCoords[l] * constants.ROMAN_PIXSCALE\n",
    "                            drzMatrix     = drz.getAreaFractionMatrix(nQ, nP, dx, dy + shiftY_arcsec, angle, \n",
    "                                                                      constants.ROMAN_PIXSCALE / float(scenes_oversample), nXOut=naxis1, nYOut=naxis2, \n",
    "                                                                      xCOut=xCOut, yCOut=yCOut, oversample=downsample)\n",
    "    \n",
    "                        thisSpecRate += np.nan_to_num((drzMatrix @ np.nan_to_num(photonRate).flatten()).reshape((naxis2, naxis1)))\n",
    "                    return thisSpecRate\n",
    "    \n",
    "                startTime = time.time()\n",
    "                with concurrent.futures.ThreadPoolExecutor(max_workers=nCPUs) as executor:\n",
    "                    futures = []\n",
    "    \n",
    "                    for coordinate, datacubeFilename in zip(coordinatesList, datacubeFilenames):\n",
    "                        print(coordinate, datacubeFilename)\n",
    "    \n",
    "                        hduList = fits.open(datacubeFilename)\n",
    "                        # print('Opening:', datacubeFilename)\n",
    "    \n",
    "                        # datacube   = np.array(hduList[0].data, dtype=float) * u.Unit(hduList[0].header['BUNIT'].lower())\n",
    "                        # wavelength = np.array(hduList[1].data['wavelength'], dtype=float) * u.Unit(hduList[1].header['TUNIT1'].lower())\n",
    "    \n",
    "                        datacube   = hduList[1].data.astype(np.float32) * syn.units.FNU\n",
    "                        wavelength = hduList[2].data.astype(np.float32) * u.angstrom\n",
    "                        oversample = 3\n",
    "                        wavelength = wavelength[350:680]\n",
    "                        datacube = datacube[350:680,:,:]\n",
    "\n",
    "                        scene = Scene(datacube, wavelength, oversample=scenes_oversample)\n",
    "    \n",
    "                        x, y = aperture.sky_to_idl(coordinate.ra, coordinate.dec)\n",
    "    \n",
    "                        x *= u.arcsec\n",
    "                        y *= u.arcsec\n",
    "    \n",
    "                        print(x, y, rollAngle)\n",
    "    \n",
    "                        futures.append(executor.submit(dropImage, scene, x, y, rollAngle))\n",
    "    \n",
    "                    print(\"Number of jobs:\", len(futures))\n",
    "        \n",
    "                    for future in concurrent.futures.as_completed(futures):\n",
    "                        specRate += future.result()\n",
    "                \n",
    "                ## Make values positive so that random poisson generator does not break\n",
    "                specRate = np.nan_to_num(np.clip(specRate, a_min=0, a_max=None))\n",
    "    \n",
    "                specRate *= u.adu / u.s\n",
    "    \n",
    "                noisySpec = np.random.poisson((specRate + bgRate).value * exposureTime.value) * u.adu\n",
    "    \n",
    "                if subtractBackground:\n",
    "                    noisySpec -= bgRate * exposureTime\n",
    "                \n",
    "                stdDev = np.sqrt((specRate + bgRate) * exposureTime).value * u.adu\n",
    "                \n",
    "                alpha0, delta0 = aperture.idl_to_sky(0,0)\n",
    "                wcs = astro.getWCS(rollAngle, filterName, naxis2, naxis1, alpha=alpha0, delta=delta0, crpix1=crpix1, crpix2=crpix2, oversample=1)\n",
    "    \n",
    "                hduListOut = []\n",
    "    \n",
    "                header = fits.Header()\n",
    "                header['COMMENT'] = \"Simulated Roman 2d spectra generated using Ilia\"\n",
    "                header['COMMENT'] = \"https://gitlab.com/astraatmadja/Ilia\"\n",
    "        \n",
    "                hduListOut.append(fits.PrimaryHDU(header=header))\n",
    "\n",
    "                hduListOut[0].header.set('DATE', value=time.strftime('%Y-%m-%d'), comment='date this file was written (yyyy-mm-dd)')\n",
    "    \n",
    "                image_hdu = fits.ImageHDU(noisySpec.value, name='SCI', ver=1)\n",
    "                image_hdu.header.set('TELESCOP', aperture.observatory)\n",
    "                image_hdu.header.set('INSTRUME', aperture.InstrName)\n",
    "                image_hdu.header.set('APERTURE', aperture.AperName)\n",
    "                image_hdu.header.set('SCA_NUM', int(re.sub(\"[^0-9]\", \"\", aperture.AperName)))\n",
    "                image_hdu.header.set('FILTER', \"{0:s}\".format(filterName), 'filter')\n",
    "                image_hdu.header.set('BUNIT', str(noisySpec.unit), 'brightness units')\n",
    "                image_hdu.header.set('exptime', exposureTime.value, 'exposure time in sec')\n",
    "                image_hdu.header.set('ORIENTAT', pa_aper.deg)\n",
    "                image_hdu.header.set('PA_V3', pa_v3.deg)\n",
    "                image_hdu.header.set('BG_RATE', bgRate.value, 'sky background rate in ADU/s')\n",
    "                image_hdu.header.update(wcs.to_header())\n",
    "    \n",
    "                hduListOut.append(image_hdu)\n",
    "    \n",
    "                stdDevImage_hdu = fits.ImageHDU(stdDev.value, name='ERR', ver=1)\n",
    "                stdDevImage_hdu.header.set('TELESCOP', aperture.observatory)\n",
    "                stdDevImage_hdu.header.set('INSTRUME', aperture.InstrName)\n",
    "                stdDevImage_hdu.header.set('APERTURE', aperture.AperName)\n",
    "                stdDevImage_hdu.header.set('SCA_NUM', int(re.sub(\"[^0-9]\", \"\", aperture.AperName)))\n",
    "                stdDevImage_hdu.header.set('FILTER', \"{0:s}\".format(filterName), 'filter')\n",
    "                stdDevImage_hdu.header.set('BUNIT', str(noisySpec.unit), 'brightness units')\n",
    "                stdDevImage_hdu.header.set('exptime', exposureTime.value, 'exposure time in sec')\n",
    "                stdDevImage_hdu.header.set('ORIENTAT', pa_aper.deg)\n",
    "                stdDevImage_hdu.header.set('PA_V3', pa_v3.deg)\n",
    "                stdDevImage_hdu.header.set('BG_RATE', bgRate.value, 'sky background rate in ADU/s')\n",
    "                stdDevImage_hdu.header.update(wcs.to_header())\n",
    "    \n",
    "                hduListOut.append(stdDevImage_hdu)\n",
    "    \n",
    "                DQImage_hdu = fits.ImageHDU(np.ones(noisySpec.shape, dtype=np.int16), name='DQ', ver=1)\n",
    "                DQImage_hdu.header.set('TELESCOP', aperture.observatory)\n",
    "                DQImage_hdu.header.set('INSTRUME', aperture.InstrName)\n",
    "                DQImage_hdu.header.set('APERTURE', aperture.AperName)\n",
    "                DQImage_hdu.header.set('SCA_NUM', int(re.sub(\"[^0-9]\", \"\", aperture.AperName)))\n",
    "                DQImage_hdu.header.set('FILTER', \"{0:s}\".format(filterName), 'filter')\n",
    "                DQImage_hdu.header.set('BUNIT', \"unitless\", 'brightness units')\n",
    "                DQImage_hdu.header.set('exptime', exposureTime.value, 'exposure time in sec')\n",
    "                DQImage_hdu.header.set('ORIENTAT', pa_aper.deg)\n",
    "                DQImage_hdu.header.set('PA_V3', pa_v3.deg)\n",
    "                DQImage_hdu.header.set('BG_RATE', bgRate.value, 'sky background rate in ADU/s')\n",
    "                DQImage_hdu.header.update(wcs.to_header())\n",
    "    \n",
    "                hduListOut.append(DQImage_hdu)\n",
    "    \n",
    "                image_hduNF = fits.ImageHDU((specRate * exposureTime).value, name='TRUE', ver=1)\n",
    "                image_hduNF.header.set('TELESCOP', aperture.observatory)\n",
    "                image_hduNF.header.set('INSTRUME', aperture.InstrName)\n",
    "                image_hduNF.header.set('APERTURE', aperture.AperName)\n",
    "                image_hduNF.header.set('SCA_NUM', int(re.sub(\"[^0-9]\", \"\", aperture.AperName)))\n",
    "                image_hduNF.header.set('FILTER', \"{0:s}\".format(filterName), 'filter')\n",
    "                image_hduNF.header.set('BUNIT', str(noisySpec.unit), 'brightness units')\n",
    "                image_hduNF.header.set('exptime', exposureTime.value, 'exposure time in sec')\n",
    "                image_hduNF.header.set('ORIENTAT', pa_aper.deg)\n",
    "                image_hduNF.header.set('PA_V3', pa_v3.deg)\n",
    "                image_hduNF.header.set('BG_RATE', bgRate.value, 'sky background rate in ADU/s')\n",
    "                image_hduNF.header.update(wcs.to_header())\n",
    "    \n",
    "                hduListOut.append(image_hduNF)\n",
    "    \n",
    "                hduList = fits.HDUList(hduListOut)\n",
    "    \n",
    "                hduList.info()\n",
    "    \n",
    "                outFilename = \"{0:s}/test_2d_multipleGalaxies_{1:s}_{2:s}_{3:s}_rollAngle{4:03.0f}.fits\".format(OUTDIR, aperture.InstrName, aperture.AperName, filterName, rollAngle.deg)\n",
    "            \n",
    "                hduList.writeto(outFilename, overwrite=True)\n",
    "    \n",
    "                print(\"Image written to {0:s}\".format(outFilename))\n",
    "    \n",
    "                print(\"DONE! ELAPSED TIME:\", convertTime(time.time() - startTime))\n",
    "\n",
    "print(\"ALL DONE! ELAPSED TIME:\", convertTime(time.time() - startTimeAll))"
   ]
  },
  {
   "cell_type": "code",
   "execution_count": null,
   "id": "0167b308-061d-4456-893c-7d052e67b4a1",
   "metadata": {},
   "outputs": [],
   "source": []
  }
 ],
 "metadata": {
  "kernelspec": {
   "display_name": "ilia",
   "language": "python",
   "name": "python3"
  },
  "language_info": {
   "codemirror_mode": {
    "name": "ipython",
    "version": 3
   },
   "file_extension": ".py",
   "mimetype": "text/x-python",
   "name": "python",
   "nbconvert_exporter": "python",
   "pygments_lexer": "ipython3",
   "version": "3.10.18"
  }
 },
 "nbformat": 4,
 "nbformat_minor": 5
}
